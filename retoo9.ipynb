{
  "nbformat": 4,
  "nbformat_minor": 0,
  "metadata": {
    "colab": {
      "provenance": []
    },
    "kernelspec": {
      "name": "python3",
      "display_name": "Python 3"
    },
    "language_info": {
      "name": "python"
    }
  },
  "cells": [
    {
      "cell_type": "markdown",
      "source": [
        "# Punto 1"
      ],
      "metadata": {
        "id": "yJeQT001eqyq"
      }
    },
    {
      "cell_type": "code",
      "execution_count": null,
      "metadata": {
        "colab": {
          "base_uri": "https://localhost:8080/"
        },
        "id": "YgpDURzbdHRx",
        "outputId": "8d6a901f-e77d-4567-c1e9-17b93818affa"
      },
      "outputs": [
        {
          "output_type": "stream",
          "name": "stdout",
          "text": [
            "Ingrese los numeros para calcular el pomedio (separados por comas): 5 5 5 5 \n",
            "El promedio de los números ingresados es: 5.0\n"
          ]
        }
      ],
      "source": [
        "#Desarrollar un algoritmo que calcule el promedio de un arreglo de reales.\n",
        "\n",
        "def promedio(lista_promedio):\n",
        "\n",
        "  if len(lista_promedio) == 0: #Evitamos que se divida entre cero\n",
        "    return 0\n",
        "  promedio_rta= sum(lista_promedio) / len(lista_promedio)\n",
        "\n",
        "  return promedio_rta\n",
        "\n",
        "if __name__=='__main__':\n",
        "  numeros = input('Ingrese los numeros para calcular el pomedio (separados por comas): ')\n",
        "\n",
        "  conversion = numeros.split() #Convertir la entrada en una lista de numeros\n",
        "  lista_promedio = []\n",
        "  for conversion in conversion:\n",
        "    lista_promedio.append(float(conversion))\n",
        "\n",
        "  promedio_rta = promedio(lista_promedio)\n",
        "  print(f\"El promedio de los números ingresados es: {promedio_rta}\")\n",
        "\n",
        "\n",
        "\n",
        "\n",
        "\n",
        "\n",
        "\n"
      ]
    },
    {
      "cell_type": "markdown",
      "source": [
        "# Punto 2"
      ],
      "metadata": {
        "id": "HgkllVaTsG-9"
      }
    },
    {
      "cell_type": "code",
      "source": [
        "def prod_punto(arreglo1, arreglo2):\n",
        "\n",
        "    if len(arreglo1) != len(arreglo2):\n",
        "        print(\"Los arreglos no son del mismo tramaño\")\n",
        "        return None\n",
        "\n",
        "\n",
        "    resultado = 0 # Inicializamos el resultado\n",
        "\n",
        "\n",
        "    for i in range(len(arreglo1)):  # Recorrer los numeros de los arreglos\n",
        "        resultado += arreglo1[i] * arreglo2[i] #Los productos se van sumando\n",
        "\n",
        "    return resultado\n",
        "\n",
        "if __name__=='__main__':\n",
        "\n",
        "    arreglo1 = input('Ingrese el primer arreglo, separados por espacios: ').split()\n",
        "    arreglo2 = input('Ingrese el segundo arreglo (con la misma cantidad de elementos que el primero), separados por espacios: ').split()\n",
        "\n",
        "    lista1 = []\n",
        "    lista2 = []\n",
        "\n",
        "    for num in arreglo1:\n",
        "        arreglo1.append(float(num))\n",
        "\n",
        "    for num in arreglo2:\n",
        "        arreglo2.append(float(num))\n",
        "\n",
        "    respuesta = prod_punto(arreglo1, arreglo2)\n",
        "\n",
        "    if respuesta is not None:\n",
        "        print(\"El producto punto es:\", respuesta)\n"
      ],
      "metadata": {
        "colab": {
          "base_uri": "https://localhost:8080/"
        },
        "id": "tNoOhaJAuIxO",
        "outputId": "4737e238-a2cd-494f-fb2b-76c8978812bc"
      },
      "execution_count": null,
      "outputs": [
        {
          "name": "stdout",
          "output_type": "stream",
          "text": [
            "Ingrese el primer arreglo, separados por espacios: 1 2 3\n",
            "Ingrese el segundo arreglo (con la misma cantidad de elementos que el primero), separados por espacios: 4 5 6\n"
          ]
        }
      ]
    },
    {
      "cell_type": "markdown",
      "source": [
        "# Punto 3"
      ],
      "metadata": {
        "id": "yK8gMfq6zV3L"
      }
    },
    {
      "cell_type": "code",
      "source": [
        "def ceros(arreglo):\n",
        "    # Usar sort de tal forma que los ceros queden al final\n",
        "    arreglo.sort(key=lambda x: x == 0)\n",
        "    return arreglo\n",
        "\n",
        "if __name__ == '__main__':\n",
        "    # Transfromamos la entrada en una lista\n",
        "    arreglo1 = input('Ingrese el arreglo, separado por espacios: ').split()\n",
        "\n",
        "    lista1 = []\n",
        "\n",
        "    for num in arreglo1:\n",
        "        lista1.append(float(num))\n",
        "\n",
        "    resultado = ceros(lista1)\n",
        "\n",
        "    print(\"Arreglo con ceros al final:\", resultado)\n",
        "\n",
        "\n",
        "\n"
      ],
      "metadata": {
        "colab": {
          "base_uri": "https://localhost:8080/"
        },
        "id": "IsAm1MYdzXGB",
        "outputId": "7ab6e32e-f6b5-4200-9e9e-53b0df3f0a2a"
      },
      "execution_count": 1,
      "outputs": [
        {
          "output_type": "stream",
          "name": "stdout",
          "text": [
            "Ingrese el arreglo, separado por espacios: 3 5 234 356 0 0 0 0 0 0 1 3 5 \n",
            "Arreglo con ceros al final: [3.0, 5.0, 234.0, 356.0, 1.0, 3.0, 5.0, 0.0, 0.0, 0.0, 0.0, 0.0, 0.0]\n"
          ]
        }
      ]
    }
  ]
}